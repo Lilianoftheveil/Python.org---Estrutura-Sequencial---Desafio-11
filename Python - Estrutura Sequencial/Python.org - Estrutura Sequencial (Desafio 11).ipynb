{
 "cells": [
  {
   "cell_type": "code",
   "execution_count": null,
   "id": "f704985c",
   "metadata": {},
   "outputs": [],
   "source": [
    "Python - Lista de Exercícios (Estrutura Sequencial) \n",
    "link: https://wiki.python.org.br/EstruturaSequencial"
   ]
  },
  {
   "cell_type": "markdown",
   "id": "f36f0365",
   "metadata": {},
   "source": [
    "11) Faça um Programa que peça 2 números inteiros e um número real. Calcule e mostre: a) o produto do dobro do primeiro com metade do segundo. b) a soma do triplo do primeiro com o terceiro. c) o terceiro elevado ao cubo."
   ]
  },
  {
   "cell_type": "code",
   "execution_count": null,
   "id": "291025e7",
   "metadata": {},
   "outputs": [],
   "source": [
    "Obs.: Visando desenvolver o programa de forma mais dinâmica e menos suscetível a erros, adicionei \n",
    "outras estruturas no corpo do código. De modo que apenas números sejam aceitos durante sua execução."
   ]
  },
  {
   "cell_type": "code",
   "execution_count": null,
   "id": "eb6d47b6",
   "metadata": {},
   "outputs": [],
   "source": [
    "while True:\n",
    "  x = input(\"Digite um número inteiro: \")\n",
    "  y = input(\"Digite outro número inteiro: \")\n",
    "  z = input(\"Digite um número real: \")\n",
    "  try:\n",
    "    int(x), int(y), float(z)\n",
    "    a = (int(x) * 2) * (int(y) / 2)\n",
    "    b = int(x) * 3 + float(z)\n",
    "    c = round(float(z) ** 3, 2)\n",
    "    print(f\"a) {a} \\nb) {b}\\nc) {c}\")\n",
    "    break\n",
    "  except:\n",
    "    print(\"Por favor, digite apenas números.\\nOs dois primeiros números inteiros, e o terceiro um número real.\")\n",
    "    continue"
   ]
  }
 ],
 "metadata": {
  "kernelspec": {
   "display_name": "Python 3 (ipykernel)",
   "language": "python",
   "name": "python3"
  },
  "language_info": {
   "codemirror_mode": {
    "name": "ipython",
    "version": 3
   },
   "file_extension": ".py",
   "mimetype": "text/x-python",
   "name": "python",
   "nbconvert_exporter": "python",
   "pygments_lexer": "ipython3",
   "version": "3.8.10"
  }
 },
 "nbformat": 4,
 "nbformat_minor": 5
}
